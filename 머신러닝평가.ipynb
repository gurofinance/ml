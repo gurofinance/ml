{
 "cells": [
  {
   "cell_type": "code",
   "execution_count": 3,
   "id": "336b1e47",
   "metadata": {
    "ExecuteTime": {
     "end_time": "2022-07-06T04:29:14.913891Z",
     "start_time": "2022-07-06T04:29:14.865021Z"
    }
   },
   "outputs": [
    {
     "name": "stdout",
     "output_type": "stream",
     "text": [
      "<class 'pandas.core.frame.DataFrame'>\n",
      "RangeIndex: 891 entries, 0 to 890\n",
      "Data columns (total 12 columns):\n",
      " #   Column       Non-Null Count  Dtype  \n",
      "---  ------       --------------  -----  \n",
      " 0   PassengerId  891 non-null    int64  \n",
      " 1   Survived     891 non-null    int64  \n",
      " 2   Pclass       891 non-null    int64  \n",
      " 3   Name         891 non-null    object \n",
      " 4   Sex          891 non-null    object \n",
      " 5   Age          714 non-null    float64\n",
      " 6   SibSp        891 non-null    int64  \n",
      " 7   Parch        891 non-null    int64  \n",
      " 8   Ticket       891 non-null    object \n",
      " 9   Fare         891 non-null    float64\n",
      " 10  Cabin        204 non-null    object \n",
      " 11  Embarked     889 non-null    object \n",
      "dtypes: float64(2), int64(5), object(5)\n",
      "memory usage: 83.7+ KB\n"
     ]
    }
   ],
   "source": [
    "#titanic csv 데이터 가져와서 데이터프레임 만들기\n",
    "import pandas as pd\n",
    "\n",
    "df = pd.read_csv('./datasets/titanic_train.csv')\n",
    "df.info()"
   ]
  },
  {
   "cell_type": "code",
   "execution_count": 4,
   "id": "96f44887",
   "metadata": {
    "ExecuteTime": {
     "end_time": "2022-07-06T04:35:27.126073Z",
     "start_time": "2022-07-06T04:35:27.072900Z"
    }
   },
   "outputs": [
    {
     "data": {
      "text/html": [
       "<div>\n",
       "<style scoped>\n",
       "    .dataframe tbody tr th:only-of-type {\n",
       "        vertical-align: middle;\n",
       "    }\n",
       "\n",
       "    .dataframe tbody tr th {\n",
       "        vertical-align: top;\n",
       "    }\n",
       "\n",
       "    .dataframe thead th {\n",
       "        text-align: right;\n",
       "    }\n",
       "</style>\n",
       "<table border=\"1\" class=\"dataframe\">\n",
       "  <thead>\n",
       "    <tr style=\"text-align: right;\">\n",
       "      <th></th>\n",
       "      <th>Survived</th>\n",
       "      <th>Pclass</th>\n",
       "      <th>Sex</th>\n",
       "      <th>Age</th>\n",
       "      <th>Embarked</th>\n",
       "    </tr>\n",
       "  </thead>\n",
       "  <tbody>\n",
       "    <tr>\n",
       "      <th>0</th>\n",
       "      <td>0</td>\n",
       "      <td>3</td>\n",
       "      <td>male</td>\n",
       "      <td>22.0</td>\n",
       "      <td>S</td>\n",
       "    </tr>\n",
       "    <tr>\n",
       "      <th>1</th>\n",
       "      <td>1</td>\n",
       "      <td>1</td>\n",
       "      <td>female</td>\n",
       "      <td>38.0</td>\n",
       "      <td>C</td>\n",
       "    </tr>\n",
       "    <tr>\n",
       "      <th>2</th>\n",
       "      <td>1</td>\n",
       "      <td>3</td>\n",
       "      <td>female</td>\n",
       "      <td>26.0</td>\n",
       "      <td>S</td>\n",
       "    </tr>\n",
       "    <tr>\n",
       "      <th>3</th>\n",
       "      <td>1</td>\n",
       "      <td>1</td>\n",
       "      <td>female</td>\n",
       "      <td>35.0</td>\n",
       "      <td>S</td>\n",
       "    </tr>\n",
       "    <tr>\n",
       "      <th>4</th>\n",
       "      <td>0</td>\n",
       "      <td>3</td>\n",
       "      <td>male</td>\n",
       "      <td>35.0</td>\n",
       "      <td>S</td>\n",
       "    </tr>\n",
       "  </tbody>\n",
       "</table>\n",
       "</div>"
      ],
      "text/plain": [
       "   Survived  Pclass     Sex   Age Embarked\n",
       "0         0       3    male  22.0        S\n",
       "1         1       1  female  38.0        C\n",
       "2         1       3  female  26.0        S\n",
       "3         1       1  female  35.0        S\n",
       "4         0       3    male  35.0        S"
      ]
     },
     "execution_count": 4,
     "metadata": {},
     "output_type": "execute_result"
    }
   ],
   "source": [
    "df.drop(['PassengerId','Name', 'SibSp' ,'Parch','Ticket', 'Fare','Cabin'  ] , axis=1 , inplace=True)\n",
    "df.head()"
   ]
  },
  {
   "cell_type": "code",
   "execution_count": 5,
   "id": "2526a188",
   "metadata": {
    "ExecuteTime": {
     "end_time": "2022-07-06T04:36:04.585487Z",
     "start_time": "2022-07-06T04:36:04.563545Z"
    }
   },
   "outputs": [
    {
     "name": "stdout",
     "output_type": "stream",
     "text": [
      "<class 'pandas.core.frame.DataFrame'>\n",
      "RangeIndex: 891 entries, 0 to 890\n",
      "Data columns (total 5 columns):\n",
      " #   Column    Non-Null Count  Dtype  \n",
      "---  ------    --------------  -----  \n",
      " 0   Survived  891 non-null    int64  \n",
      " 1   Pclass    891 non-null    int64  \n",
      " 2   Sex       891 non-null    object \n",
      " 3   Age       714 non-null    float64\n",
      " 4   Embarked  889 non-null    object \n",
      "dtypes: float64(1), int64(2), object(2)\n",
      "memory usage: 34.9+ KB\n"
     ]
    }
   ],
   "source": [
    "df.info()"
   ]
  },
  {
   "cell_type": "code",
   "execution_count": 6,
   "id": "7751e98b",
   "metadata": {
    "ExecuteTime": {
     "end_time": "2022-07-06T04:41:42.121511Z",
     "start_time": "2022-07-06T04:41:42.083609Z"
    }
   },
   "outputs": [],
   "source": [
    "df['Age']=df['Age'].fillna(df['Age'].mean())\n",
    "df['Embarked']=df['Embarked'].fillna('S')"
   ]
  },
  {
   "cell_type": "code",
   "execution_count": 7,
   "id": "ca0575a3",
   "metadata": {
    "ExecuteTime": {
     "end_time": "2022-07-06T04:43:49.130412Z",
     "start_time": "2022-07-06T04:43:49.106451Z"
    }
   },
   "outputs": [],
   "source": [
    "X = df.drop('Survived' ,axis=1)\n",
    "y = df.loc[:,'Survived' ]"
   ]
  },
  {
   "cell_type": "code",
   "execution_count": 13,
   "id": "a4375fbe",
   "metadata": {
    "ExecuteTime": {
     "end_time": "2022-07-06T04:47:05.167502Z",
     "start_time": "2022-07-06T04:47:05.140059Z"
    }
   },
   "outputs": [],
   "source": [
    "from sklearn.preprocessing import LabelEncoder\n",
    "\n",
    "encoder  = LabelEncoder()\n",
    "X['Sex'] = encoder.fit_transform(X['Sex'])\n",
    "X['Embarked'] = encoder.fit_transform(X['Embarked'])"
   ]
  },
  {
   "cell_type": "code",
   "execution_count": 21,
   "id": "7be27f69",
   "metadata": {
    "ExecuteTime": {
     "end_time": "2022-07-06T04:55:32.918787Z",
     "start_time": "2022-07-06T04:55:32.898845Z"
    }
   },
   "outputs": [],
   "source": [
    "from sklearn.preprocessing import RobustScaler, MinMaxScaler\n",
    "\n",
    "scaler = MinMaxScaler()\n",
    "X['Age'] = scaler.fit_transform(X[['Age']])"
   ]
  },
  {
   "cell_type": "code",
   "execution_count": 23,
   "id": "a37eaf0f",
   "metadata": {
    "ExecuteTime": {
     "end_time": "2022-07-06T04:59:20.292559Z",
     "start_time": "2022-07-06T04:59:20.269623Z"
    }
   },
   "outputs": [],
   "source": [
    "from sklearn.model_selection import train_test_split\n",
    "\n",
    "X_train , X_test , y_train, y_test = train_test_split(X, y ,test_size=0.1, random_state=111)"
   ]
  },
  {
   "cell_type": "code",
   "execution_count": 24,
   "id": "fdbee21a",
   "metadata": {
    "ExecuteTime": {
     "end_time": "2022-07-06T05:04:32.361074Z",
     "start_time": "2022-07-06T05:04:31.780470Z"
    }
   },
   "outputs": [],
   "source": [
    "from sklearn.base import BaseEstimator\n",
    "from sklearn.ensemble import RandomForestClassifier\n",
    "\n",
    "be_clf = RandomForestClassifier()\n",
    "be_clf.fit(X_train, y_train)\n",
    "\n",
    "pred = be_clf.predict(X_test)"
   ]
  },
  {
   "cell_type": "code",
   "execution_count": 25,
   "id": "822a489a",
   "metadata": {
    "ExecuteTime": {
     "end_time": "2022-07-06T05:17:11.295702Z",
     "start_time": "2022-07-06T05:17:11.272763Z"
    }
   },
   "outputs": [
    {
     "name": "stdout",
     "output_type": "stream",
     "text": [
      "정확도 : 0.7666666666666667\n",
      "정밀도 : 0.7058823529411765\n",
      "재현율 : 0.6857142857142857\n"
     ]
    }
   ],
   "source": [
    "from sklearn.metrics import accuracy_score, precision_score, recall_score\n",
    "print(\"정확도 :\", accuracy_score(y_test, pred))\n",
    "print(\"정밀도 :\", precision_score(y_test, pred))\n",
    "print(\"재현율 :\", recall_score(y_test, pred))"
   ]
  },
  {
   "cell_type": "code",
   "execution_count": 26,
   "id": "66125e0c",
   "metadata": {
    "ExecuteTime": {
     "end_time": "2022-07-06T05:21:12.535843Z",
     "start_time": "2022-07-06T05:21:12.510912Z"
    }
   },
   "outputs": [
    {
     "name": "stdout",
     "output_type": "stream",
     "text": [
      "f1 score : 0.6956521739130436\n"
     ]
    }
   ],
   "source": [
    "from sklearn.metrics import f1_score\n",
    "\n",
    "print(\"f1 score :\", f1_score(y_test, pred))"
   ]
  },
  {
   "cell_type": "code",
   "execution_count": 27,
   "id": "de3b1b09",
   "metadata": {
    "ExecuteTime": {
     "end_time": "2022-07-06T05:22:31.909412Z",
     "start_time": "2022-07-06T05:22:31.889467Z"
    }
   },
   "outputs": [
    {
     "data": {
      "text/plain": [
       "1.4375"
      ]
     },
     "execution_count": 27,
     "metadata": {},
     "output_type": "execute_result"
    }
   ],
   "source": [
    "(1/0.7058823529411765 + 1/0.6857142857142857)/2"
   ]
  },
  {
   "cell_type": "code",
   "execution_count": 28,
   "id": "06c034a5",
   "metadata": {
    "ExecuteTime": {
     "end_time": "2022-07-06T05:22:58.365118Z",
     "start_time": "2022-07-06T05:22:58.344175Z"
    }
   },
   "outputs": [
    {
     "data": {
      "text/plain": [
       "0.6956521739130435"
      ]
     },
     "execution_count": 28,
     "metadata": {},
     "output_type": "execute_result"
    }
   ],
   "source": [
    "1/1.4375"
   ]
  },
  {
   "cell_type": "code",
   "execution_count": 30,
   "id": "50b92461",
   "metadata": {
    "ExecuteTime": {
     "end_time": "2022-07-06T07:24:38.699900Z",
     "start_time": "2022-07-06T07:24:38.653025Z"
    }
   },
   "outputs": [
    {
     "name": "stdout",
     "output_type": "stream",
     "text": [
      "[1 1 1 0 0 0 0 1 0 1 0 0 1 1 0 1 1 0 0 1 1 0 0 0 0 0 0 1 0 0 1 1 1 0 0 0 1\n",
      " 0 1 0 0 0 1 0 0 0 1 0 1 0 0 1 1 0 1 0 0 0 0 1 0 1 0 0 1 1 0 0 0 0 0 0 0 1\n",
      " 0 1 0 1 0 0 0 0 0 1 1 0 0 0 0 0]\n",
      "[[0.30673966 0.69326034]\n",
      " [0.24313959 0.75686041]\n",
      " [0.06385122 0.93614878]\n",
      " [0.8827164  0.1172836 ]\n",
      " [0.92726492 0.07273508]\n",
      " [0.6068496  0.3931504 ]\n",
      " [0.84989784 0.15010216]\n",
      " [0.06457926 0.93542074]\n",
      " [0.90268062 0.09731938]\n",
      " [0.23392688 0.76607312]\n",
      " [0.73260025 0.26739975]\n",
      " [0.89937811 0.10062189]\n",
      " [0.3013728  0.6986272 ]\n",
      " [0.07893166 0.92106834]\n",
      " [0.9195562  0.0804438 ]\n",
      " [0.4534506  0.5465494 ]\n",
      " [0.08362292 0.91637708]\n",
      " [0.85475718 0.14524282]\n",
      " [0.79209074 0.20790926]\n",
      " [0.24783731 0.75216269]\n",
      " [0.32739033 0.67260967]\n",
      " [0.63959002 0.36040998]\n",
      " [0.9195562  0.0804438 ]\n",
      " [0.96195566 0.03804434]\n",
      " [0.90924633 0.09075367]\n",
      " [0.9195562  0.0804438 ]\n",
      " [0.85430153 0.14569847]\n",
      " [0.23850269 0.76149731]\n",
      " [0.90268062 0.09731938]\n",
      " [0.8827164  0.1172836 ]\n",
      " [0.08303999 0.91696001]\n",
      " [0.31763099 0.68236901]\n",
      " [0.18382796 0.81617204]\n",
      " [0.89228001 0.10771999]\n",
      " [0.9237687  0.0762313 ]\n",
      " [0.58240082 0.41759918]\n",
      " [0.06855315 0.93144685]\n",
      " [0.6007823  0.3992177 ]\n",
      " [0.05667736 0.94332264]\n",
      " [0.82771326 0.17228674]\n",
      " [0.935368   0.064632  ]\n",
      " [0.76591669 0.23408331]\n",
      " [0.13051277 0.86948723]\n",
      " [0.61602243 0.38397757]\n",
      " [0.90268062 0.09731938]\n",
      " [0.77488832 0.22511168]\n",
      " [0.46108669 0.53891331]\n",
      " [0.53869644 0.46130356]\n",
      " [0.0886576  0.9113424 ]\n",
      " [0.5762197  0.4237803 ]\n",
      " [0.93981837 0.06018163]\n",
      " [0.46549569 0.53450431]\n",
      " [0.33165553 0.66834447]\n",
      " [0.92895709 0.07104291]\n",
      " [0.46549569 0.53450431]\n",
      " [0.91233717 0.08766283]\n",
      " [0.72266016 0.27733984]\n",
      " [0.70452197 0.29547803]\n",
      " [0.8827164  0.1172836 ]\n",
      " [0.41406193 0.58593807]\n",
      " [0.84663345 0.15336655]\n",
      " [0.439031   0.560969  ]\n",
      " [0.87264923 0.12735077]\n",
      " [0.9195562  0.0804438 ]\n",
      " [0.41406193 0.58593807]\n",
      " [0.08964139 0.91035861]\n",
      " [0.9195562  0.0804438 ]\n",
      " [0.94262422 0.05737578]\n",
      " [0.88150241 0.11849759]\n",
      " [0.90819444 0.09180556]\n",
      " [0.61602243 0.38397757]\n",
      " [0.63666161 0.36333839]\n",
      " [0.9195562  0.0804438 ]\n",
      " [0.38091002 0.61908998]\n",
      " [0.89937811 0.10062189]\n",
      " [0.08362292 0.91637708]\n",
      " [0.90268062 0.09731938]\n",
      " [0.08303999 0.91696001]\n",
      " [0.8827164  0.1172836 ]\n",
      " [0.69307473 0.30692527]\n",
      " [0.76133877 0.23866123]\n",
      " [0.8827164  0.1172836 ]\n",
      " [0.92726492 0.07273508]\n",
      " [0.07532169 0.92467831]\n",
      " [0.3013728  0.6986272 ]\n",
      " [0.75669977 0.24330023]\n",
      " [0.90268062 0.09731938]\n",
      " [0.9237687  0.0762313 ]\n",
      " [0.9195562  0.0804438 ]\n",
      " [0.54309968 0.45690032]]\n",
      "pred_proba()결과 Shape : (90, 2)\n"
     ]
    }
   ],
   "source": [
    "from sklearn.linear_model import LogisticRegression \n",
    "\n",
    "lr_clf = LogisticRegression()\n",
    "lr_clf.fit(X_train, y_train)\n",
    "\n",
    "pred_proba = lr_clf.predict_proba(X_test)\n",
    "pred=lr_clf.predict(X_test)\n",
    "print(pred)\n",
    "print(pred_proba)\n",
    "print(f'pred_proba()결과 Shape : {pred_proba.shape}')"
   ]
  },
  {
   "cell_type": "code",
   "execution_count": 31,
   "id": "9e663d63",
   "metadata": {
    "ExecuteTime": {
     "end_time": "2022-07-06T07:38:48.782737Z",
     "start_time": "2022-07-06T07:38:48.753815Z"
    }
   },
   "outputs": [
    {
     "name": "stdout",
     "output_type": "stream",
     "text": [
      "pred_proba array에서 앞 3개만 샘플로 추출 \n",
      ": [[0.30673966 0.69326034]\n",
      " [0.24313959 0.75686041]\n",
      " [0.06385122 0.93614878]]\n",
      "두개의 class 중에서 더 큰 확률을 클래스 값으로 예측 \n",
      " [[0.30673966 0.69326034 1.        ]\n",
      " [0.24313959 0.75686041 1.        ]\n",
      " [0.06385122 0.93614878 1.        ]]\n"
     ]
    }
   ],
   "source": [
    "import numpy as np\n",
    "\n",
    "print('pred_proba array에서 앞 3개만 샘플로 추출 \\n:', pred_proba[:3])\n",
    "\n",
    "pred_proba_result = np.concatenate([pred_proba, pred.reshape(-1, 1)], axis=1)\n",
    "print('두개의 class 중에서 더 큰 확률을 클래스 값으로 예측 \\n', pred_proba_result[:3])"
   ]
  },
  {
   "cell_type": "code",
   "execution_count": 32,
   "id": "705feb53",
   "metadata": {
    "ExecuteTime": {
     "end_time": "2022-07-06T07:46:10.070575Z",
     "start_time": "2022-07-06T07:46:10.051625Z"
    }
   },
   "outputs": [
    {
     "data": {
      "text/plain": [
       "3.125"
      ]
     },
     "execution_count": 32,
     "metadata": {},
     "output_type": "execute_result"
    }
   ],
   "source": [
    "(10/2 + 10/8)/2"
   ]
  },
  {
   "cell_type": "code",
   "execution_count": 33,
   "id": "4071fa60",
   "metadata": {
    "ExecuteTime": {
     "end_time": "2022-07-06T07:46:17.834995Z",
     "start_time": "2022-07-06T07:46:17.818036Z"
    }
   },
   "outputs": [
    {
     "data": {
      "text/plain": [
       "0.32"
      ]
     },
     "execution_count": 33,
     "metadata": {},
     "output_type": "execute_result"
    }
   ],
   "source": [
    "1/3.125"
   ]
  },
  {
   "cell_type": "code",
   "execution_count": 34,
   "id": "c7f5b179",
   "metadata": {
    "ExecuteTime": {
     "end_time": "2022-07-06T07:46:29.409571Z",
     "start_time": "2022-07-06T07:46:29.394598Z"
    }
   },
   "outputs": [
    {
     "data": {
      "text/plain": [
       "2.380952380952381"
      ]
     },
     "execution_count": 34,
     "metadata": {},
     "output_type": "execute_result"
    }
   ],
   "source": [
    "(10/3 + 10/7)/2"
   ]
  },
  {
   "cell_type": "code",
   "execution_count": 35,
   "id": "81f1eb8b",
   "metadata": {
    "ExecuteTime": {
     "end_time": "2022-07-06T07:46:37.669904Z",
     "start_time": "2022-07-06T07:46:37.650953Z"
    }
   },
   "outputs": [
    {
     "data": {
      "text/plain": [
       "0.42"
      ]
     },
     "execution_count": 35,
     "metadata": {},
     "output_type": "execute_result"
    }
   ],
   "source": [
    "1/2.380952380952381"
   ]
  },
  {
   "cell_type": "code",
   "execution_count": null,
   "id": "8c541d25",
   "metadata": {},
   "outputs": [],
   "source": []
  }
 ],
 "metadata": {
  "kernelspec": {
   "display_name": "Python 3 (ipykernel)",
   "language": "python",
   "name": "python3"
  },
  "language_info": {
   "codemirror_mode": {
    "name": "ipython",
    "version": 3
   },
   "file_extension": ".py",
   "mimetype": "text/x-python",
   "name": "python",
   "nbconvert_exporter": "python",
   "pygments_lexer": "ipython3",
   "version": "3.10.2"
  },
  "toc": {
   "base_numbering": 1,
   "nav_menu": {},
   "number_sections": true,
   "sideBar": true,
   "skip_h1_title": false,
   "title_cell": "Table of Contents",
   "title_sidebar": "Contents",
   "toc_cell": false,
   "toc_position": {},
   "toc_section_display": true,
   "toc_window_display": false
  }
 },
 "nbformat": 4,
 "nbformat_minor": 5
}
